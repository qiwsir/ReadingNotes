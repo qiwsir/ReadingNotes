{
 "cells": [
  {
   "cell_type": "markdown",
   "metadata": {},
   "source": [
    "# Clean Data\n",
    "\n",
    "## chapter 1 Why Do You Need Clean Data\n",
    "\n",
    "连接本地数据库中Enron的邮件数据库。\n",
    "\n",
    "dataset name: enron"
   ]
  },
  {
   "cell_type": "code",
   "execution_count": 17,
   "metadata": {},
   "outputs": [],
   "source": [
    "import pandas as pd\n",
    "import pymysql\n",
    "\n",
    "conn = pymysql.connect(host=\"localhost\", user='root', password='1q2w3e4r5t', db='enron')\n",
    "sql = \"select * from message\"\n",
    "enron_msgs = pd.read_sql(sql, con=conn)"
   ]
  },
  {
   "cell_type": "code",
   "execution_count": 3,
   "metadata": {},
   "outputs": [
    {
     "data": {
      "text/html": [
       "<div>\n",
       "<style scoped>\n",
       "    .dataframe tbody tr th:only-of-type {\n",
       "        vertical-align: middle;\n",
       "    }\n",
       "\n",
       "    .dataframe tbody tr th {\n",
       "        vertical-align: top;\n",
       "    }\n",
       "\n",
       "    .dataframe thead th {\n",
       "        text-align: right;\n",
       "    }\n",
       "</style>\n",
       "<table border=\"1\" class=\"dataframe\">\n",
       "  <thead>\n",
       "    <tr style=\"text-align: right;\">\n",
       "      <th></th>\n",
       "      <th>mid</th>\n",
       "      <th>sender</th>\n",
       "      <th>date</th>\n",
       "      <th>message_id</th>\n",
       "      <th>subject</th>\n",
       "      <th>body</th>\n",
       "      <th>folder</th>\n",
       "    </tr>\n",
       "  </thead>\n",
       "  <tbody>\n",
       "    <tr>\n",
       "      <th>0</th>\n",
       "      <td>52</td>\n",
       "      <td>press.release@enron.com</td>\n",
       "      <td>2000-01-21 04:51:00</td>\n",
       "      <td>&lt;12435833.1075863606729.JavaMail.evans@thyme&gt;</td>\n",
       "      <td>ENRON HOSTS ANNUAL ANALYST CONFERENCE PROVIDES...</td>\n",
       "      <td>HOUSTON - Enron Corp. hosted its annual equity...</td>\n",
       "      <td>Robert_Badeer_Aug2000Notes FoldersPress releases</td>\n",
       "    </tr>\n",
       "    <tr>\n",
       "      <th>1</th>\n",
       "      <td>53</td>\n",
       "      <td>office.chairman@enron.com</td>\n",
       "      <td>2000-01-24 01:37:00</td>\n",
       "      <td>&lt;29664079.1075863606676.JavaMail.evans@thyme&gt;</td>\n",
       "      <td>Over $50 -- You made it happen!</td>\n",
       "      <td>On Wall Street, people are talking about Enron...</td>\n",
       "      <td>Robert_Badeer_Aug2000Notes FoldersPress releases</td>\n",
       "    </tr>\n",
       "    <tr>\n",
       "      <th>2</th>\n",
       "      <td>54</td>\n",
       "      <td>office.chairman@enron.com</td>\n",
       "      <td>2000-01-24 02:06:00</td>\n",
       "      <td>&lt;15300605.1075863606629.JavaMail.evans@thyme&gt;</td>\n",
       "      <td>Over $50 -- You made it happen!</td>\n",
       "      <td>On Wall Street, people are talking about Enron...</td>\n",
       "      <td>Robert_Badeer_Aug2000Notes FoldersPress releases</td>\n",
       "    </tr>\n",
       "    <tr>\n",
       "      <th>3</th>\n",
       "      <td>55</td>\n",
       "      <td>press.release@enron.com</td>\n",
       "      <td>2000-02-02 10:21:00</td>\n",
       "      <td>&lt;10522232.1075863606538.JavaMail.evans@thyme&gt;</td>\n",
       "      <td>ROAD-SHOW.COM Q4i.COM CHOOSE ENRON TO DELIVER ...</td>\n",
       "      <td>HOUSTON =01) Enron Broadband Services (EBS), a...</td>\n",
       "      <td>Robert_Badeer_Aug2000Notes FoldersPress releases</td>\n",
       "    </tr>\n",
       "    <tr>\n",
       "      <th>4</th>\n",
       "      <td>56</td>\n",
       "      <td>office.chairman@enron.com</td>\n",
       "      <td>2000-02-07 22:16:00</td>\n",
       "      <td>&lt;16056123.1075863606515.JavaMail.evans@thyme&gt;</td>\n",
       "      <td>Fortune Most Admired Ranking</td>\n",
       "      <td>Congratulations!  For an unprecedented five ye...</td>\n",
       "      <td>Robert_Badeer_Aug2000Notes FoldersPress releases</td>\n",
       "    </tr>\n",
       "  </tbody>\n",
       "</table>\n",
       "</div>"
      ],
      "text/plain": [
       "   mid                     sender                 date  \\\n",
       "0   52    press.release@enron.com  2000-01-21 04:51:00   \n",
       "1   53  office.chairman@enron.com  2000-01-24 01:37:00   \n",
       "2   54  office.chairman@enron.com  2000-01-24 02:06:00   \n",
       "3   55    press.release@enron.com  2000-02-02 10:21:00   \n",
       "4   56  office.chairman@enron.com  2000-02-07 22:16:00   \n",
       "\n",
       "                                      message_id  \\\n",
       "0  <12435833.1075863606729.JavaMail.evans@thyme>   \n",
       "1  <29664079.1075863606676.JavaMail.evans@thyme>   \n",
       "2  <15300605.1075863606629.JavaMail.evans@thyme>   \n",
       "3  <10522232.1075863606538.JavaMail.evans@thyme>   \n",
       "4  <16056123.1075863606515.JavaMail.evans@thyme>   \n",
       "\n",
       "                                             subject  \\\n",
       "0  ENRON HOSTS ANNUAL ANALYST CONFERENCE PROVIDES...   \n",
       "1                    Over $50 -- You made it happen!   \n",
       "2                    Over $50 -- You made it happen!   \n",
       "3  ROAD-SHOW.COM Q4i.COM CHOOSE ENRON TO DELIVER ...   \n",
       "4                       Fortune Most Admired Ranking   \n",
       "\n",
       "                                                body  \\\n",
       "0  HOUSTON - Enron Corp. hosted its annual equity...   \n",
       "1  On Wall Street, people are talking about Enron...   \n",
       "2  On Wall Street, people are talking about Enron...   \n",
       "3  HOUSTON =01) Enron Broadband Services (EBS), a...   \n",
       "4  Congratulations!  For an unprecedented five ye...   \n",
       "\n",
       "                                             folder  \n",
       "0  Robert_Badeer_Aug2000Notes FoldersPress releases  \n",
       "1  Robert_Badeer_Aug2000Notes FoldersPress releases  \n",
       "2  Robert_Badeer_Aug2000Notes FoldersPress releases  \n",
       "3  Robert_Badeer_Aug2000Notes FoldersPress releases  \n",
       "4  Robert_Badeer_Aug2000Notes FoldersPress releases  "
      ]
     },
     "execution_count": 3,
     "metadata": {},
     "output_type": "execute_result"
    }
   ],
   "source": [
    "enron_msgs.head()"
   ]
  },
  {
   "cell_type": "code",
   "execution_count": 4,
   "metadata": {},
   "outputs": [
    {
     "data": {
      "text/html": [
       "<div>\n",
       "<style scoped>\n",
       "    .dataframe tbody tr th:only-of-type {\n",
       "        vertical-align: middle;\n",
       "    }\n",
       "\n",
       "    .dataframe tbody tr th {\n",
       "        vertical-align: top;\n",
       "    }\n",
       "\n",
       "    .dataframe thead th {\n",
       "        text-align: right;\n",
       "    }\n",
       "</style>\n",
       "<table border=\"1\" class=\"dataframe\">\n",
       "  <thead>\n",
       "    <tr style=\"text-align: right;\">\n",
       "      <th></th>\n",
       "      <th>dateSent</th>\n",
       "      <th>numMsg</th>\n",
       "    </tr>\n",
       "  </thead>\n",
       "  <tbody>\n",
       "    <tr>\n",
       "      <th>0</th>\n",
       "      <td>0001-05-30</td>\n",
       "      <td>2</td>\n",
       "    </tr>\n",
       "    <tr>\n",
       "      <th>1</th>\n",
       "      <td>0001-06-18</td>\n",
       "      <td>1</td>\n",
       "    </tr>\n",
       "    <tr>\n",
       "      <th>2</th>\n",
       "      <td>0001-07-24</td>\n",
       "      <td>1</td>\n",
       "    </tr>\n",
       "    <tr>\n",
       "      <th>3</th>\n",
       "      <td>0001-08-01</td>\n",
       "      <td>1</td>\n",
       "    </tr>\n",
       "    <tr>\n",
       "      <th>4</th>\n",
       "      <td>0001-08-06</td>\n",
       "      <td>1</td>\n",
       "    </tr>\n",
       "  </tbody>\n",
       "</table>\n",
       "</div>"
      ],
      "text/plain": [
       "     dateSent  numMsg\n",
       "0  0001-05-30       2\n",
       "1  0001-06-18       1\n",
       "2  0001-07-24       1\n",
       "3  0001-08-01       1\n",
       "4  0001-08-06       1"
      ]
     },
     "execution_count": 4,
     "metadata": {},
     "output_type": "execute_result"
    }
   ],
   "source": [
    "# 用SQL语句，统计每天的记录数量，并生成dataframe数据\n",
    "sql_date = 'select date(date) as dateSent, count(mid) as numMsg from message GROUP BY dateSent ORDER BY dateSent'\n",
    "group_msgs = pd.read_sql(sql_date, con=conn)\n",
    "group_msgs.head()"
   ]
  },
  {
   "cell_type": "code",
   "execution_count": 6,
   "metadata": {},
   "outputs": [
    {
     "name": "stdout",
     "output_type": "stream",
     "text": [
      "<class 'pandas.core.frame.DataFrame'>\n",
      "RangeIndex: 1323 entries, 0 to 1322\n",
      "Data columns (total 2 columns):\n",
      "dateSent    1323 non-null object\n",
      "numMsg      1323 non-null int64\n",
      "dtypes: int64(1), object(1)\n",
      "memory usage: 20.8+ KB\n"
     ]
    }
   ],
   "source": [
    "group_msgs.info()"
   ]
  },
  {
   "cell_type": "markdown",
   "metadata": {},
   "source": [
    "用pandas的函数，对In[17]中生成的enron_msgs进行分组统计，得到与In[4]同样的结果。\n"
   ]
  },
  {
   "cell_type": "code",
   "execution_count": 7,
   "metadata": {},
   "outputs": [
    {
     "data": {
      "text/plain": [
       "mid            int64\n",
       "sender        object\n",
       "date          object\n",
       "message_id    object\n",
       "subject       object\n",
       "body          object\n",
       "folder        object\n",
       "dtype: object"
      ]
     },
     "execution_count": 7,
     "metadata": {},
     "output_type": "execute_result"
    }
   ],
   "source": [
    "enron_msgs.dtypes"
   ]
  },
  {
   "cell_type": "code",
   "execution_count": 27,
   "metadata": {},
   "outputs": [
    {
     "data": {
      "text/plain": [
       "datetime.datetime(1, 5, 30, 13, 10, 6)"
      ]
     },
     "execution_count": 27,
     "metadata": {},
     "output_type": "execute_result"
    }
   ],
   "source": [
    "enron_msgs['date'].min()"
   ]
  },
  {
   "cell_type": "code",
   "execution_count": 28,
   "metadata": {},
   "outputs": [
    {
     "data": {
      "text/plain": [
       "datetime.datetime(2044, 1, 4, 14, 48, 58)"
      ]
     },
     "execution_count": 28,
     "metadata": {},
     "output_type": "execute_result"
    }
   ],
   "source": [
    "enron_msgs['date'].max()"
   ]
  },
  {
   "cell_type": "code",
   "execution_count": 29,
   "metadata": {},
   "outputs": [
    {
     "data": {
      "text/plain": [
       "0   2000-01-21 04:51:00\n",
       "1   2000-01-24 01:37:00\n",
       "2   2000-01-24 02:06:00\n",
       "3   2000-02-02 10:21:00\n",
       "4   2000-02-07 22:16:00\n",
       "Name: date, dtype: datetime64[ns]"
      ]
     },
     "execution_count": 29,
     "metadata": {},
     "output_type": "execute_result"
    }
   ],
   "source": [
    "# 将date特征转化为日期型，因为存在上述的错误数据，所以，以下参数中errors = 'coerce'\n",
    "temp = pd.to_datetime(enron_msgs['date'], format=\"%Y-%m-%d\", errors = 'coerce')\n",
    "temp.head()"
   ]
  },
  {
   "cell_type": "code",
   "execution_count": 31,
   "metadata": {},
   "outputs": [],
   "source": [
    "enron_msgs['justday'] = temp.dt.date"
   ]
  },
  {
   "cell_type": "code",
   "execution_count": 44,
   "metadata": {},
   "outputs": [
    {
     "data": {
      "text/html": [
       "<div>\n",
       "<style scoped>\n",
       "    .dataframe tbody tr th:only-of-type {\n",
       "        vertical-align: middle;\n",
       "    }\n",
       "\n",
       "    .dataframe tbody tr th {\n",
       "        vertical-align: top;\n",
       "    }\n",
       "\n",
       "    .dataframe thead th {\n",
       "        text-align: right;\n",
       "    }\n",
       "</style>\n",
       "<table border=\"1\" class=\"dataframe\">\n",
       "  <thead>\n",
       "    <tr style=\"text-align: right;\">\n",
       "      <th></th>\n",
       "      <th>dateSent</th>\n",
       "      <th>numMsg</th>\n",
       "    </tr>\n",
       "  </thead>\n",
       "  <tbody>\n",
       "    <tr>\n",
       "      <th>103</th>\n",
       "      <td>1979-12-31</td>\n",
       "      <td>6</td>\n",
       "    </tr>\n",
       "  </tbody>\n",
       "</table>\n",
       "</div>"
      ],
      "text/plain": [
       "       dateSent  numMsg\n",
       "103  1979-12-31       6"
      ]
     },
     "execution_count": 44,
     "metadata": {},
     "output_type": "execute_result"
    }
   ],
   "source": [
    "import datetime\n",
    "group_msgs[group_msgs['dateSent']==datetime.datetime.strptime('1979-12-31', '%Y-%m-%d').date()]"
   ]
  },
  {
   "cell_type": "code",
   "execution_count": 46,
   "metadata": {},
   "outputs": [
    {
     "data": {
      "text/html": [
       "<div>\n",
       "<style scoped>\n",
       "    .dataframe tbody tr th:only-of-type {\n",
       "        vertical-align: middle;\n",
       "    }\n",
       "\n",
       "    .dataframe tbody tr th {\n",
       "        vertical-align: top;\n",
       "    }\n",
       "\n",
       "    .dataframe thead th {\n",
       "        text-align: right;\n",
       "    }\n",
       "</style>\n",
       "<table border=\"1\" class=\"dataframe\">\n",
       "  <thead>\n",
       "    <tr style=\"text-align: right;\">\n",
       "      <th></th>\n",
       "      <th>mid</th>\n",
       "      <th>sender</th>\n",
       "      <th>date</th>\n",
       "      <th>message_id</th>\n",
       "      <th>subject</th>\n",
       "      <th>body</th>\n",
       "      <th>folder</th>\n",
       "    </tr>\n",
       "    <tr>\n",
       "      <th>justday</th>\n",
       "      <th></th>\n",
       "      <th></th>\n",
       "      <th></th>\n",
       "      <th></th>\n",
       "      <th></th>\n",
       "      <th></th>\n",
       "      <th></th>\n",
       "    </tr>\n",
       "  </thead>\n",
       "  <tbody>\n",
       "    <tr>\n",
       "      <th>1979-12-31</th>\n",
       "      <td>6</td>\n",
       "      <td>6</td>\n",
       "      <td>6</td>\n",
       "      <td>6</td>\n",
       "      <td>6</td>\n",
       "      <td>6</td>\n",
       "      <td>6</td>\n",
       "    </tr>\n",
       "    <tr>\n",
       "      <th>1997-01-01</th>\n",
       "      <td>1</td>\n",
       "      <td>1</td>\n",
       "      <td>1</td>\n",
       "      <td>1</td>\n",
       "      <td>1</td>\n",
       "      <td>1</td>\n",
       "      <td>1</td>\n",
       "    </tr>\n",
       "    <tr>\n",
       "      <th>1998-01-04</th>\n",
       "      <td>1</td>\n",
       "      <td>1</td>\n",
       "      <td>1</td>\n",
       "      <td>1</td>\n",
       "      <td>1</td>\n",
       "      <td>1</td>\n",
       "      <td>1</td>\n",
       "    </tr>\n",
       "    <tr>\n",
       "      <th>1998-01-05</th>\n",
       "      <td>1</td>\n",
       "      <td>1</td>\n",
       "      <td>1</td>\n",
       "      <td>1</td>\n",
       "      <td>1</td>\n",
       "      <td>1</td>\n",
       "      <td>1</td>\n",
       "    </tr>\n",
       "    <tr>\n",
       "      <th>1998-10-30</th>\n",
       "      <td>3</td>\n",
       "      <td>3</td>\n",
       "      <td>3</td>\n",
       "      <td>3</td>\n",
       "      <td>3</td>\n",
       "      <td>3</td>\n",
       "      <td>3</td>\n",
       "    </tr>\n",
       "  </tbody>\n",
       "</table>\n",
       "</div>"
      ],
      "text/plain": [
       "            mid  sender  date  message_id  subject  body  folder\n",
       "justday                                                         \n",
       "1979-12-31    6       6     6           6        6     6       6\n",
       "1997-01-01    1       1     1           1        1     1       1\n",
       "1998-01-04    1       1     1           1        1     1       1\n",
       "1998-01-05    1       1     1           1        1     1       1\n",
       "1998-10-30    3       3     3           3        3     3       3"
      ]
     },
     "execution_count": 46,
     "metadata": {},
     "output_type": "execute_result"
    }
   ],
   "source": [
    "group_msgs2 = enron_msgs.groupby('justday').count()\n",
    "group_msgs2.head()"
   ]
  },
  {
   "cell_type": "markdown",
   "metadata": {},
   "source": [
    "对照In[4]和In[46]两个分组统计结果，在In[4]中，存在不符合正常时期或者日期书写不规范的结果，In[46]中，则都是按照”年、月、日“方式书写的数据，其他不符合规范的，已经在In[29]中转化为NaN."
   ]
  },
  {
   "cell_type": "code",
   "execution_count": 48,
   "metadata": {},
   "outputs": [
    {
     "data": {
      "text/html": [
       "<div>\n",
       "<style scoped>\n",
       "    .dataframe tbody tr th:only-of-type {\n",
       "        vertical-align: middle;\n",
       "    }\n",
       "\n",
       "    .dataframe tbody tr th {\n",
       "        vertical-align: top;\n",
       "    }\n",
       "\n",
       "    .dataframe thead th {\n",
       "        text-align: right;\n",
       "    }\n",
       "</style>\n",
       "<table border=\"1\" class=\"dataframe\">\n",
       "  <thead>\n",
       "    <tr style=\"text-align: right;\">\n",
       "      <th></th>\n",
       "      <th>dateSent</th>\n",
       "      <th>numMsg</th>\n",
       "    </tr>\n",
       "  </thead>\n",
       "  <tbody>\n",
       "    <tr>\n",
       "      <th>0</th>\n",
       "      <td>1998-01-04</td>\n",
       "      <td>1</td>\n",
       "    </tr>\n",
       "    <tr>\n",
       "      <th>1</th>\n",
       "      <td>1998-01-05</td>\n",
       "      <td>1</td>\n",
       "    </tr>\n",
       "    <tr>\n",
       "      <th>2</th>\n",
       "      <td>1998-10-30</td>\n",
       "      <td>3</td>\n",
       "    </tr>\n",
       "    <tr>\n",
       "      <th>3</th>\n",
       "      <td>1998-11-02</td>\n",
       "      <td>1</td>\n",
       "    </tr>\n",
       "    <tr>\n",
       "      <th>4</th>\n",
       "      <td>1998-11-03</td>\n",
       "      <td>1</td>\n",
       "    </tr>\n",
       "  </tbody>\n",
       "</table>\n",
       "</div>"
      ],
      "text/plain": [
       "     dateSent  numMsg\n",
       "0  1998-01-04       1\n",
       "1  1998-01-05       1\n",
       "2  1998-10-30       3\n",
       "3  1998-11-02       1\n",
       "4  1998-11-03       1"
      ]
     },
     "execution_count": 48,
     "metadata": {},
     "output_type": "execute_result"
    }
   ],
   "source": [
    "sql2 = 'SELECT date(date) AS dateSent, count(mid) AS numMsg From message WHERE year(date) BETWEEN 1998 AND 2002 GROUP BY dateSent ORDER BY datesent;'\n",
    "group_msgs3 = pd.read_sql(sql2, con=conn)\n",
    "group_msgs3.head()"
   ]
  },
  {
   "cell_type": "code",
   "execution_count": null,
   "metadata": {},
   "outputs": [],
   "source": []
  }
 ],
 "metadata": {
  "kernelspec": {
   "display_name": "Python 3",
   "language": "python",
   "name": "python3"
  },
  "language_info": {
   "codemirror_mode": {
    "name": "ipython",
    "version": 3
   },
   "file_extension": ".py",
   "mimetype": "text/x-python",
   "name": "python",
   "nbconvert_exporter": "python",
   "pygments_lexer": "ipython3",
   "version": "3.7.1"
  }
 },
 "nbformat": 4,
 "nbformat_minor": 2
}
